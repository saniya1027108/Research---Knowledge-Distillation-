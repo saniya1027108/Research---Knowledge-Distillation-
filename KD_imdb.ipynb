{
  "nbformat": 4,
  "nbformat_minor": 0,
  "metadata": {
    "colab": {
      "provenance": [],
      "gpuType": "T4",
      "authorship_tag": "ABX9TyPRgvfgw6VsSctQMTg4jFDA",
      "include_colab_link": true
    },
    "kernelspec": {
      "name": "python3",
      "display_name": "Python 3"
    },
    "language_info": {
      "name": "python"
    },
    "accelerator": "GPU"
  },
  "cells": [
    {
      "cell_type": "markdown",
      "metadata": {
        "id": "view-in-github",
        "colab_type": "text"
      },
      "source": [
        "<a href=\"https://colab.research.google.com/github/saniya1027108/Research---Knowledge-Distillation-/blob/main/KD_imdb.ipynb\" target=\"_parent\"><img src=\"https://colab.research.google.com/assets/colab-badge.svg\" alt=\"Open In Colab\"/></a>"
      ]
    },
    {
      "cell_type": "code",
      "execution_count": null,
      "metadata": {
        "id": "2QbVOhjThiv3"
      },
      "outputs": [],
      "source": [
        "import numpy as np\n",
        "import tensorflow as tf\n",
        "from tensorflow.keras import layers, models\n",
        "from tensorflow.keras.datasets import imdb\n",
        "from tensorflow.keras.preprocessing import sequence"
      ]
    },
    {
      "cell_type": "code",
      "source": [
        "# Load IMDB dataset\n",
        "max_features = 20000\n",
        "max_len = 200\n",
        "(x_train, y_train), (x_test, y_test) = imdb.load_data(num_words=max_features)\n",
        "x_train = sequence.pad_sequences(x_train, maxlen=max_len)\n",
        "x_test = sequence.pad_sequences(x_test, maxlen=max_len)\n"
      ],
      "metadata": {
        "id": "AIlzNSS8hjpL"
      },
      "execution_count": null,
      "outputs": []
    },
    {
      "cell_type": "code",
      "source": [
        "# Define a teacher model\n",
        "teacher = models.Sequential()\n",
        "teacher.add(layers.Embedding(max_features, 128, input_length=max_len))\n",
        "teacher.add(layers.LSTM(64))\n",
        "teacher.add(layers.Dense(1, activation='sigmoid'))\n",
        "\n",
        "teacher.compile(optimizer='adam',\n",
        "                loss='binary_crossentropy',\n",
        "                metrics=['accuracy'])\n",
        "\n",
        "teacher.summary()"
      ],
      "metadata": {
        "colab": {
          "base_uri": "https://localhost:8080/"
        },
        "id": "J6rO3MEZiixK",
        "outputId": "ffabbfa7-b898-482f-9e52-ced156a6575f"
      },
      "execution_count": null,
      "outputs": [
        {
          "output_type": "stream",
          "name": "stdout",
          "text": [
            "Model: \"sequential\"\n",
            "_________________________________________________________________\n",
            " Layer (type)                Output Shape              Param #   \n",
            "=================================================================\n",
            " embedding (Embedding)       (None, 200, 128)          2560000   \n",
            "                                                                 \n",
            " lstm (LSTM)                 (None, 64)                49408     \n",
            "                                                                 \n",
            " dense (Dense)               (None, 1)                 65        \n",
            "                                                                 \n",
            "=================================================================\n",
            "Total params: 2609473 (9.95 MB)\n",
            "Trainable params: 2609473 (9.95 MB)\n",
            "Non-trainable params: 0 (0.00 Byte)\n",
            "_________________________________________________________________\n"
          ]
        }
      ]
    },
    {
      "cell_type": "code",
      "source": [
        "# Train teacher model\n",
        "teacher.fit(x_train, y_train, epochs=3, batch_size=64, validation_split=0.2)\n"
      ],
      "metadata": {
        "colab": {
          "base_uri": "https://localhost:8080/"
        },
        "id": "YrEcIwdDhwNQ",
        "outputId": "ddf96ef8-0b03-411b-c4ac-480c496aec84"
      },
      "execution_count": null,
      "outputs": [
        {
          "output_type": "stream",
          "name": "stdout",
          "text": [
            "Epoch 1/3\n",
            "313/313 [==============================] - 28s 79ms/step - loss: 0.4125 - accuracy: 0.8051 - val_loss: 0.3146 - val_accuracy: 0.8672\n",
            "Epoch 2/3\n",
            "313/313 [==============================] - 15s 47ms/step - loss: 0.2049 - accuracy: 0.9248 - val_loss: 0.3110 - val_accuracy: 0.8688\n",
            "Epoch 3/3\n",
            "313/313 [==============================] - 10s 30ms/step - loss: 0.1275 - accuracy: 0.9562 - val_loss: 0.4103 - val_accuracy: 0.8606\n"
          ]
        },
        {
          "output_type": "execute_result",
          "data": {
            "text/plain": [
              "<keras.src.callbacks.History at 0x7f2df4671810>"
            ]
          },
          "metadata": {},
          "execution_count": 4
        }
      ]
    },
    {
      "cell_type": "code",
      "source": [
        "# Define a student model (simpler architecture)\n",
        "student = models.Sequential()\n",
        "student.add(layers.Embedding(max_features, 64, input_length=max_len))\n",
        "student.add(layers.LSTM(32))\n",
        "student.add(layers.Dense(1, activation='sigmoid'))\n",
        "\n",
        "student.compile(optimizer='adam',\n",
        "                loss='binary_crossentropy',\n",
        "                metrics=['accuracy'])\n",
        "\n",
        "student.summary()"
      ],
      "metadata": {
        "colab": {
          "base_uri": "https://localhost:8080/"
        },
        "id": "z6554uWUiM0w",
        "outputId": "b1905cba-2295-4d69-8359-687523fb969a"
      },
      "execution_count": null,
      "outputs": [
        {
          "output_type": "stream",
          "name": "stdout",
          "text": [
            "Model: \"sequential_1\"\n",
            "_________________________________________________________________\n",
            " Layer (type)                Output Shape              Param #   \n",
            "=================================================================\n",
            " embedding_1 (Embedding)     (None, 200, 64)           1280000   \n",
            "                                                                 \n",
            " lstm_1 (LSTM)               (None, 32)                12416     \n",
            "                                                                 \n",
            " dense_1 (Dense)             (None, 1)                 33        \n",
            "                                                                 \n",
            "=================================================================\n",
            "Total params: 1292449 (4.93 MB)\n",
            "Trainable params: 1292449 (4.93 MB)\n",
            "Non-trainable params: 0 (0.00 Byte)\n",
            "_________________________________________________________________\n"
          ]
        }
      ]
    },
    {
      "cell_type": "code",
      "source": [
        "# Define Distiller class\n",
        "class Distiller(models.Model):\n",
        "    def __init__(self, student, teacher):\n",
        "        super(Distiller, self).__init__()\n",
        "        self.teacher = teacher\n",
        "        self.student = student\n",
        "\n",
        "    def compile(self, optimizer, metrics, student_loss_fn, distillation_loss_fn, alpha=0.1, temperature=3):\n",
        "        super(Distiller, self).compile(optimizer=optimizer, metrics=metrics)\n",
        "        self.student_loss_fn = student_loss_fn\n",
        "        self.distillation_loss_fn = distillation_loss_fn\n",
        "        self.temperature = temperature\n",
        "        self.alpha = alpha\n",
        "\n",
        "    def train_step(self, data):\n",
        "        x, y = data\n",
        "\n",
        "        # Forward pass of teacher\n",
        "        teacher_prediction = self.teacher(x, training=False)\n",
        "\n",
        "        with tf.GradientTape() as tape:\n",
        "            # Forward pass of student\n",
        "            student_prediction = self.student(x, training=True)\n",
        "\n",
        "            # Compute losses\n",
        "            student_loss = self.student_loss_fn(y, student_prediction)\n",
        "\n",
        "            distillation_loss = self.distillation_loss_fn(\n",
        "                tf.nn.softmax(teacher_prediction / self.temperature, axis=1),\n",
        "                tf.nn.softmax(student_prediction / self.temperature, axis=1)\n",
        "            )\n",
        "\n",
        "            loss = self.alpha * student_loss + (1 - self.alpha) * distillation_loss\n",
        "\n",
        "            # Compute gradients\n",
        "            trainable_vars = self.student.trainable_variables\n",
        "            gradients = tape.gradient(loss, trainable_vars)\n",
        "            gradients = [gradient * tf.constant(self.temperature ** 2, dtype=tf.float32) if isinstance(gradient, tf.IndexedSlices) else gradient * (self.temperature ** 2) for gradient in gradients]\n",
        "\n",
        "\n",
        "            # Update weights\n",
        "            self.optimizer.apply_gradients(zip(gradients, trainable_vars))\n",
        "\n",
        "            # Update the metrics configured in `compile()`\n",
        "            self.compiled_metrics.update_state(y, student_prediction)\n",
        "\n",
        "            # Return a dict of performance\n",
        "            results = {m.name: m.result() for m in self.metrics}\n",
        "            results.update({\"student_loss\": student_loss, \"distillation_loss\": distillation_loss})\n",
        "            print(\"Train...\", results)\n",
        "            return results\n",
        "\n",
        "    def test_step(self, data):\n",
        "        # Unpack the data\n",
        "        x, y = data\n",
        "\n",
        "        # Compute predictions\n",
        "        y_prediction = self.student(x, training=False)\n",
        "\n",
        "        # Calculate the loss\n",
        "        student_loss = self.student_loss_fn(y, y_prediction)\n",
        "\n",
        "        # Update the metrics.\n",
        "        self.compiled_metrics.update_state(y, y_prediction)\n",
        "\n",
        "        # Return a dict of performance\n",
        "        results = {m.name: m.result() for m in self.metrics}\n",
        "        results.update({\"student_loss\": student_loss})\n",
        "        print(\"Test...\", results)\n",
        "        return results\n",
        "\n",
        "# Initialize Distiller\n",
        "distiller = Distiller(student=student, teacher=teacher)"
      ],
      "metadata": {
        "id": "fCHU-LFkiNf3"
      },
      "execution_count": null,
      "outputs": []
    },
    {
      "cell_type": "code",
      "source": [
        "# Compile Distiller\n",
        "distiller.compile(optimizer=tf.keras.optimizers.Adam(),\n",
        "                  metrics=['accuracy'],\n",
        "                  student_loss_fn=tf.keras.losses.BinaryCrossentropy(from_logits=True),\n",
        "                  distillation_loss_fn=tf.keras.losses.KLDivergence(),\n",
        "                  alpha=0.3,\n",
        "                  temperature=5)"
      ],
      "metadata": {
        "id": "A8LWJeiWiQ16"
      },
      "execution_count": null,
      "outputs": []
    },
    {
      "cell_type": "code",
      "source": [
        "# Distill teacher to student\n",
        "distiller.fit(x_train, y_train, epochs=3, batch_size=64, validation_split=0.2)\n",
        "\n",
        "# Evaluate student on test dataset\n",
        "distiller.evaluate(x_test, y_test)"
      ],
      "metadata": {
        "colab": {
          "base_uri": "https://localhost:8080/"
        },
        "id": "RCrUllbzk2xf",
        "outputId": "8acc1e68-d093-459c-c5c8-39c2692541e4"
      },
      "execution_count": null,
      "outputs": [
        {
          "output_type": "stream",
          "name": "stdout",
          "text": [
            "Epoch 1/3\n",
            "Train... {'accuracy': <tf.Tensor 'Identity_6:0' shape=() dtype=float32>, 'student_loss': <tf.Tensor 'binary_crossentropy/weighted_loss/value:0' shape=() dtype=float32>, 'distillation_loss': <tf.Tensor 'kl_divergence/weighted_loss/value:0' shape=() dtype=float32>}\n",
            "Train... {'accuracy': <tf.Tensor 'Identity_6:0' shape=() dtype=float32>, 'student_loss': <tf.Tensor 'binary_crossentropy/weighted_loss/value:0' shape=() dtype=float32>, 'distillation_loss': <tf.Tensor 'kl_divergence/weighted_loss/value:0' shape=() dtype=float32>}\n",
            "310/313 [============================>.] - ETA: 0s - accuracy: 0.6907 - student_loss: 0.6350 - distillation_loss: 0.0000e+00Test... {'accuracy': <tf.Tensor 'Identity:0' shape=() dtype=float32>, 'student_loss': <tf.Tensor 'binary_crossentropy/weighted_loss/value:0' shape=() dtype=float32>}\n",
            "313/313 [==============================] - 13s 16ms/step - accuracy: 0.6914 - student_loss: 0.6341 - distillation_loss: 0.0000e+00 - val_accuracy: 0.8288 - val_student_loss: 0.5694\n",
            "Epoch 2/3\n",
            "313/313 [==============================] - 4s 12ms/step - accuracy: 0.8589 - student_loss: 0.5676 - distillation_loss: 0.0000e+00 - val_accuracy: 0.8108 - val_student_loss: 0.5914\n",
            "Epoch 3/3\n",
            "313/313 [==============================] - 4s 13ms/step - accuracy: 0.9016 - student_loss: 0.5477 - distillation_loss: 0.0000e+00 - val_accuracy: 0.8556 - val_student_loss: 0.5997\n",
            "782/782 [==============================] - 4s 5ms/step - accuracy: 0.8465 - student_loss: 0.5738\n"
          ]
        },
        {
          "output_type": "execute_result",
          "data": {
            "text/plain": [
              "[0.8465200066566467, 0.5559797286987305]"
            ]
          },
          "metadata": {},
          "execution_count": 11
        }
      ]
    },
    {
      "cell_type": "markdown",
      "source": [
        "hyperparameter tuning\n"
      ],
      "metadata": {
        "id": "gkFnxaGTpXs0"
      }
    },
    {
      "cell_type": "code",
      "source": [
        "# Initialize Distiller\n",
        "distiller = Distiller(student=student, teacher=teacher)\n",
        "\n",
        "# Hyperparameter tuning\n",
        "learning_rate = 0.001\n",
        "batch_size = 32\n",
        "epochs = 10\n",
        "\n",
        "# Compile Distiller with tuned hyperparameters\n",
        "distiller.compile(optimizer=tf.keras.optimizers.Adam(learning_rate=learning_rate),\n",
        "                  metrics=['accuracy'],\n",
        "                  student_loss_fn=tf.keras.losses.BinaryCrossentropy(from_logits=True),\n",
        "                  distillation_loss_fn=tf.keras.losses.KLDivergence(),\n",
        "                  alpha=0.6,\n",
        "                  temperature=15)\n",
        "\n",
        "# Distill teacher to student\n",
        "distiller.fit(x_train, y_train, epochs=epochs, batch_size=batch_size, validation_split=0.2)\n",
        "\n",
        "# Evaluate student on test dataset\n",
        "distiller.evaluate(x_test, y_test)"
      ],
      "metadata": {
        "colab": {
          "base_uri": "https://localhost:8080/"
        },
        "id": "hwO0c6KHk-sT",
        "outputId": "b15a497e-5d60-4431-e77b-c4a0dee103b5"
      },
      "execution_count": null,
      "outputs": [
        {
          "output_type": "stream",
          "name": "stdout",
          "text": [
            "Epoch 1/10\n",
            "Train... {'accuracy': <tf.Tensor 'Identity_6:0' shape=() dtype=float32>, 'student_loss': <tf.Tensor 'binary_crossentropy/weighted_loss/value:0' shape=() dtype=float32>, 'distillation_loss': <tf.Tensor 'kl_divergence/weighted_loss/value:0' shape=() dtype=float32>}\n",
            "Train... {'accuracy': <tf.Tensor 'Identity_6:0' shape=() dtype=float32>, 'student_loss': <tf.Tensor 'binary_crossentropy/weighted_loss/value:0' shape=() dtype=float32>, 'distillation_loss': <tf.Tensor 'kl_divergence/weighted_loss/value:0' shape=() dtype=float32>}\n",
            "622/625 [============================>.] - ETA: 0s - accuracy: 0.9776 - student_loss: 0.5128 - distillation_loss: 0.0000e+00Test... {'accuracy': <tf.Tensor 'Identity:0' shape=() dtype=float32>, 'student_loss': <tf.Tensor 'binary_crossentropy/weighted_loss/value:0' shape=() dtype=float32>}\n",
            "625/625 [==============================] - 11s 14ms/step - accuracy: 0.9776 - student_loss: 0.5127 - distillation_loss: 0.0000e+00 - val_accuracy: 0.8552 - val_student_loss: 0.5852\n",
            "Epoch 2/10\n",
            "625/625 [==============================] - 8s 12ms/step - accuracy: 0.9071 - student_loss: 0.5459 - distillation_loss: 0.0000e+00 - val_accuracy: 0.6306 - val_student_loss: 0.6457\n",
            "Epoch 3/10\n",
            "625/625 [==============================] - 8s 14ms/step - accuracy: 0.9532 - student_loss: 0.5253 - distillation_loss: 0.0000e+00 - val_accuracy: 0.8594 - val_student_loss: 0.5845\n",
            "Epoch 4/10\n",
            "625/625 [==============================] - 8s 13ms/step - accuracy: 0.9797 - student_loss: 0.5117 - distillation_loss: 0.0000e+00 - val_accuracy: 0.8572 - val_student_loss: 0.5819\n",
            "Epoch 5/10\n",
            "625/625 [==============================] - 7s 12ms/step - accuracy: 0.9836 - student_loss: 0.5100 - distillation_loss: 0.0000e+00 - val_accuracy: 0.8542 - val_student_loss: 0.5788\n",
            "Epoch 6/10\n",
            "625/625 [==============================] - 8s 13ms/step - accuracy: 0.9853 - student_loss: 0.5092 - distillation_loss: 0.0000e+00 - val_accuracy: 0.8516 - val_student_loss: 0.5808\n",
            "Epoch 7/10\n",
            "625/625 [==============================] - 8s 13ms/step - accuracy: 0.9790 - student_loss: 0.5121 - distillation_loss: 0.0000e+00 - val_accuracy: 0.8576 - val_student_loss: 0.6481\n",
            "Epoch 8/10\n",
            "625/625 [==============================] - 7s 12ms/step - accuracy: 0.9840 - student_loss: 0.5099 - distillation_loss: 0.0000e+00 - val_accuracy: 0.8464 - val_student_loss: 0.6157\n",
            "Epoch 9/10\n",
            "625/625 [==============================] - 8s 13ms/step - accuracy: 0.9841 - student_loss: 0.5097 - distillation_loss: 0.0000e+00 - val_accuracy: 0.8590 - val_student_loss: 0.6392\n",
            "Epoch 10/10\n",
            "625/625 [==============================] - 7s 12ms/step - accuracy: 0.9810 - student_loss: 0.5109 - distillation_loss: 0.0000e+00 - val_accuracy: 0.8542 - val_student_loss: 0.5661\n",
            "782/782 [==============================] - 4s 5ms/step - accuracy: 0.8424 - student_loss: 0.5792\n"
          ]
        },
        {
          "output_type": "execute_result",
          "data": {
            "text/plain": [
              "[0.8423600196838379, 0.6283491849899292]"
            ]
          },
          "metadata": {},
          "execution_count": 16
        }
      ]
    },
    {
      "cell_type": "code",
      "source": [],
      "metadata": {
        "id": "lQfIQcDzqTgs"
      },
      "execution_count": null,
      "outputs": []
    }
  ]
}