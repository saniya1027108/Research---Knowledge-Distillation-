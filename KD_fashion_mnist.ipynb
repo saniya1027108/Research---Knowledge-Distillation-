{
  "cells": [
    {
      "cell_type": "markdown",
      "metadata": {
        "id": "view-in-github",
        "colab_type": "text"
      },
      "source": [
        "<a href=\"https://colab.research.google.com/github/saniya1027108/Research---Knowledge-Distillation-/blob/main/KD_fashion_mnist.ipynb\" target=\"_parent\"><img src=\"https://colab.research.google.com/assets/colab-badge.svg\" alt=\"Open In Colab\"/></a>"
      ]
    },
    {
      "cell_type": "code",
      "execution_count": null,
      "metadata": {
        "id": "7hbk-rWZJR4c"
      },
      "outputs": [],
      "source": [
        "import tensorflow as tf\n",
        "import numpy as np\n",
        "from tensorflow import keras"
      ]
    },
    {
      "cell_type": "code",
      "execution_count": null,
      "metadata": {
        "colab": {
          "base_uri": "https://localhost:8080/"
        },
        "id": "EJ75P4naLwRA",
        "outputId": "c531eaee-c7e4-456d-a524-e02288677f84"
      },
      "outputs": [
        {
          "output_type": "stream",
          "name": "stdout",
          "text": [
            "Input Train data   (60000, 28, 28, 1)\n",
            "Train data Labels  (60000,)\n",
            "Input Test data    (10000, 28, 28, 1)\n",
            "Test data Labels   (10000,)\n"
          ]
        }
      ],
      "source": [
        "import numpy as np\n",
        "import tensorflow as tf\n",
        "\n",
        "# Prepare the train and test dataset.\n",
        "batch_size = 64\n",
        "(x_train, y_train), (x_test, y_test) = tf.keras.datasets.fashion_mnist.load_data()\n",
        "\n",
        "# Normalize data\n",
        "x_train = x_train.astype(\"float32\") / 255.0\n",
        "x_test = x_test.astype(\"float32\") / 255.0\n",
        "\n",
        "# Add channel dimension for grayscale images\n",
        "x_train = np.expand_dims(x_train, axis=-1)\n",
        "x_test = np.expand_dims(x_test, axis=-1)\n",
        "\n",
        "print(\"Input Train data  \", x_train.shape)\n",
        "print(\"Train data Labels \", y_train.shape)\n",
        "print(\"Input Test data   \", x_test.shape)\n",
        "print(\"Test data Labels  \", y_test.shape)\n"
      ]
    },
    {
      "cell_type": "code",
      "execution_count": null,
      "metadata": {
        "colab": {
          "base_uri": "https://localhost:8080/"
        },
        "id": "Yn1ZYtAHLxBK",
        "outputId": "4fd0623c-a8eb-4f98-ab98-c5d8b090b353"
      },
      "outputs": [
        {
          "output_type": "stream",
          "name": "stdout",
          "text": [
            "Model: \"teacher\"\n",
            "_________________________________________________________________\n",
            " Layer (type)                Output Shape              Param #   \n",
            "=================================================================\n",
            " conv2d (Conv2D)             (None, 14, 14, 256)       2560      \n",
            "                                                                 \n",
            " leaky_re_lu (LeakyReLU)     (None, 14, 14, 256)       0         \n",
            "                                                                 \n",
            " max_pooling2d (MaxPooling2  (None, 14, 14, 256)       0         \n",
            " D)                                                              \n",
            "                                                                 \n",
            " dropout (Dropout)           (None, 14, 14, 256)       0         \n",
            "                                                                 \n",
            " conv2d_1 (Conv2D)           (None, 7, 7, 512)         1180160   \n",
            "                                                                 \n",
            " leaky_re_lu_1 (LeakyReLU)   (None, 7, 7, 512)         0         \n",
            "                                                                 \n",
            " max_pooling2d_1 (MaxPoolin  (None, 7, 7, 512)         0         \n",
            " g2D)                                                            \n",
            "                                                                 \n",
            " dropout_1 (Dropout)         (None, 7, 7, 512)         0         \n",
            "                                                                 \n",
            " flatten (Flatten)           (None, 25088)             0         \n",
            "                                                                 \n",
            " dense (Dense)               (None, 10)                250890    \n",
            "                                                                 \n",
            "=================================================================\n",
            "Total params: 1433610 (5.47 MB)\n",
            "Trainable params: 1433610 (5.47 MB)\n",
            "Non-trainable params: 0 (0.00 Byte)\n",
            "_________________________________________________________________\n"
          ]
        }
      ],
      "source": [
        "teacher = tf.keras.Sequential(\n",
        "    [\n",
        "        tf.keras.Input(shape=(28, 28, 1)),\n",
        "\n",
        "        tf.keras.layers.Conv2D(256, (3, 3), strides=(2, 2), padding=\"same\"),\n",
        "        tf.keras.layers.LeakyReLU(alpha=0.2),\n",
        "        tf.keras.layers.MaxPooling2D(pool_size=(2, 2), strides=(1, 1), padding=\"same\"),\n",
        "        tf.keras.layers.Dropout(0.5),  # Dropout layer for regularization\n",
        "        tf.keras.layers.Conv2D(512, (3, 3), strides=(2, 2), padding=\"same\"),\n",
        "        tf.keras.layers.LeakyReLU(alpha=0.2),\n",
        "        tf.keras.layers.MaxPooling2D(pool_size=(2, 2), strides=(1, 1), padding=\"same\"),\n",
        "        tf.keras.layers.Dropout(0.5),  # Dropout layer for regularization\n",
        "        tf.keras.layers.Flatten(),\n",
        "        tf.keras.layers.Dense(10),\n",
        "    ],\n",
        "    name=\"teacher\",\n",
        ")\n",
        "teacher.summary()\n"
      ]
    },
    {
      "cell_type": "code",
      "execution_count": null,
      "metadata": {
        "colab": {
          "base_uri": "https://localhost:8080/"
        },
        "id": "wbJEsFWBL7G4",
        "outputId": "5f895307-7e75-4eeb-d4f7-dc5ea3ffc3b4"
      },
      "outputs": [
        {
          "output_type": "stream",
          "name": "stdout",
          "text": [
            "Model: \"student\"\n",
            "_________________________________________________________________\n",
            " Layer (type)                Output Shape              Param #   \n",
            "=================================================================\n",
            " conv2d_2 (Conv2D)           (None, 14, 14, 64)        640       \n",
            "                                                                 \n",
            " leaky_re_lu_2 (LeakyReLU)   (None, 14, 14, 64)        0         \n",
            "                                                                 \n",
            " max_pooling2d_2 (MaxPoolin  (None, 14, 14, 64)        0         \n",
            " g2D)                                                            \n",
            "                                                                 \n",
            " dropout_2 (Dropout)         (None, 14, 14, 64)        0         \n",
            "                                                                 \n",
            " conv2d_3 (Conv2D)           (None, 7, 7, 256)         147712    \n",
            "                                                                 \n",
            " leaky_re_lu_3 (LeakyReLU)   (None, 7, 7, 256)         0         \n",
            "                                                                 \n",
            " max_pooling2d_3 (MaxPoolin  (None, 7, 7, 256)         0         \n",
            " g2D)                                                            \n",
            "                                                                 \n",
            " dropout_3 (Dropout)         (None, 7, 7, 256)         0         \n",
            "                                                                 \n",
            " flatten_1 (Flatten)         (None, 12544)             0         \n",
            "                                                                 \n",
            " dense_1 (Dense)             (None, 10)                125450    \n",
            "                                                                 \n",
            "=================================================================\n",
            "Total params: 273802 (1.04 MB)\n",
            "Trainable params: 273802 (1.04 MB)\n",
            "Non-trainable params: 0 (0.00 Byte)\n",
            "_________________________________________________________________\n"
          ]
        }
      ],
      "source": [
        "# Create the student\n",
        "student = tf.keras.Sequential(\n",
        "    [\n",
        "        tf.keras.Input(shape=(28, 28, 1)),\n",
        "        tf.keras.layers.Conv2D(64, (3, 3), strides=(2, 2), padding=\"same\"),\n",
        "        tf.keras.layers.LeakyReLU(alpha=0.2),\n",
        "        tf.keras.layers.MaxPooling2D(pool_size=(2, 2), strides=(1, 1), padding=\"same\"),\n",
        "        tf.keras.layers.Dropout(0.5),  # Dropout layer for regularization\n",
        "        tf.keras.layers.Conv2D(256, (3, 3), strides=(2, 2), padding=\"same\"),\n",
        "        tf.keras.layers.LeakyReLU(alpha=0.2),\n",
        "        tf.keras.layers.MaxPooling2D(pool_size=(2, 2), strides=(1, 1), padding=\"same\"),\n",
        "        tf.keras.layers.Dropout(0.5),  # Dropout layer for regularization\n",
        "        tf.keras.layers.Flatten(),\n",
        "        tf.keras.layers.Dense(10),\n",
        "    ],\n",
        "    name=\"student\",\n",
        ")\n",
        "student.summary()\n"
      ]
    },
    {
      "cell_type": "code",
      "execution_count": null,
      "metadata": {
        "colab": {
          "base_uri": "https://localhost:8080/"
        },
        "id": "eqpmca7fMDhk",
        "outputId": "8e5ee70c-9b54-479b-937a-20997e7e420a"
      },
      "outputs": [
        {
          "output_type": "stream",
          "name": "stdout",
          "text": [
            "Epoch 1/5\n",
            "1875/1875 [==============================] - 26s 10ms/step - loss: 0.4469 - sparse_categorical_accuracy: 0.8408\n",
            "Epoch 2/5\n",
            "1875/1875 [==============================] - 15s 8ms/step - loss: 0.3563 - sparse_categorical_accuracy: 0.8741\n",
            "Epoch 3/5\n",
            "1875/1875 [==============================] - 15s 8ms/step - loss: 0.3396 - sparse_categorical_accuracy: 0.8800\n",
            "Epoch 4/5\n",
            "1875/1875 [==============================] - 15s 8ms/step - loss: 0.3341 - sparse_categorical_accuracy: 0.8820\n",
            "Epoch 5/5\n",
            "1875/1875 [==============================] - 16s 8ms/step - loss: 0.3283 - sparse_categorical_accuracy: 0.8858\n",
            "313/313 [==============================] - 1s 4ms/step - loss: 0.3351 - sparse_categorical_accuracy: 0.8821\n"
          ]
        },
        {
          "output_type": "execute_result",
          "data": {
            "text/plain": [
              "[0.33513274788856506, 0.882099986076355]"
            ]
          },
          "metadata": {},
          "execution_count": 5
        }
      ],
      "source": [
        "teacher.compile(\n",
        "    optimizer=tf.keras.optimizers.Adam(),    loss=tf.keras.losses.SparseCategoricalCrossentropy(from_logits=True),metrics=[tf.keras.metrics.SparseCategoricalAccuracy()],\n",
        ")\n",
        "# Train and evaluate teacher on data.\n",
        "history_teacher = teacher.fit(x_train, y_train, epochs=5)\n",
        "teacher.evaluate(x_test, y_test)"
      ]
    },
    {
      "cell_type": "code",
      "execution_count": null,
      "metadata": {
        "id": "Tew95ln7MJgz"
      },
      "outputs": [],
      "source": [
        "class Distiller(keras.Model):\n",
        "    def __init__(self, student, teacher):\n",
        "        super(Distiller, self).__init__()\n",
        "        self.teacher = teacher\n",
        "        self.student = student\n",
        "\n",
        "    def compile(\n",
        "        self,\n",
        "        optimizer,\n",
        "        metrics,\n",
        "        student_loss_fn,\n",
        "        distillation_loss_fn,\n",
        "        alpha=0.1,\n",
        "        temperature=3,\n",
        "    ):\n",
        "\n",
        "        super(Distiller, self).compile(optimizer=optimizer, metrics=metrics)\n",
        "        self.student_loss_fn=student_loss_fn\n",
        "        self.distillation_loss_fn= distillation_loss_fn\n",
        "        self.temperature= temperature\n",
        "        self.alpha= alpha\n",
        "\n",
        "    def train_step(self, data):\n",
        "        x,y=data\n",
        "\n",
        "        # Forward pass of teacher\n",
        "        teacher_prediction=self.teacher(x, training=False)\n",
        "        print(\"Tecaher prediction   ...\", teacher_prediction)\n",
        "        with tf.GradientTape() as tape:\n",
        "            # Forward pass of student\n",
        "            student_predcition= self.student(x, training=True)\n",
        "            # Compute losses\n",
        "            student_loss= self.student_loss_fn(y, student_predcition)\n",
        "\n",
        "            distillation_loss=self.distillation_loss_fn(\n",
        "            tf.nn.softmax(teacher_prediction/self.temperature, axis=1),\n",
        "            tf.nn.softmax(student_predcition/self.temperature, axis=1)\n",
        "            )\n",
        "            loss= self.alpha* student_loss + (1-self.alpha)* distillation_loss\n",
        "            print(\"Loss in distiller :\",loss)\n",
        "            # Compute gradients\n",
        "            trainable_vars= self.student.trainable_variables\n",
        "            gradients=tape.gradient(loss, trainable_vars)\n",
        "            gradients = [gradient * (self.temperature ** 2) for gradient in gradients]\n",
        "            # Update weights\n",
        "            self.optimizer.apply_gradients(zip(gradients, trainable_vars))\n",
        "\n",
        "            # Update the metrics configured in `compile()`\n",
        "            self.compiled_metrics.update_state(y, student_predcition)\n",
        "\n",
        "            # Return a dict of performance\n",
        "            results={ m.name: m.result()  for m in self.metrics}\n",
        "            results.update({\"student_loss\": student_loss, \"distillation_loss\": distillation_loss})\n",
        "            print(\"Train...\", results)\n",
        "            return results\n",
        "\n",
        "    def test_step(self, data):\n",
        "        # Unpack the data\n",
        "        x, y = data\n",
        "\n",
        "        ## Compute predictions\n",
        "        y_prediction= self.student(x, training=False)\n",
        "\n",
        "        # calculate the loss\n",
        "        student_loss= self.student_loss_fn(y, y_prediction)\n",
        "\n",
        "        # Update the metrics.\n",
        "        self.compiled_metrics.update_state(y, y_prediction)\n",
        "\n",
        "        # Return a dict of performance\n",
        "        results ={m.name: m.result() for m in self.metrics}\n",
        "        results.update({\"student_loss\": student_loss})\n",
        "        print(\"Test...\", results)\n",
        "        return results\n",
        "# Initialize  distiller\n",
        "distiller= Distiller(student=student, teacher=teacher)"
      ]
    },
    {
      "cell_type": "code",
      "source": [
        "#compile distiller\n",
        "distiller.compile(optimizer=keras.optimizers.Adam(),\n",
        "                 metrics=[keras.metrics.SparseCategoricalAccuracy()],\n",
        "                 student_loss_fn=keras.losses.SparseCategoricalCrossentropy(from_logits=True),\n",
        "                 distillation_loss_fn=keras.losses.KLDivergence(),\n",
        "                 alpha=0.3,\n",
        "                 temperature=7)"
      ],
      "metadata": {
        "id": "qazbHlagKmgQ"
      },
      "execution_count": null,
      "outputs": []
    },
    {
      "cell_type": "code",
      "source": [
        "# Distill teacher to student\n",
        "history_student = distiller.fit(x_train, y_train, epochs=5)\n",
        "# Evaluate student on test dataset\n",
        "distiller.evaluate(x_test, y_test)"
      ],
      "metadata": {
        "colab": {
          "base_uri": "https://localhost:8080/"
        },
        "id": "IAybTp-_KpNo",
        "outputId": "742f4ae1-1bc5-473a-ce6c-9ffc3f05fcbe"
      },
      "execution_count": null,
      "outputs": [
        {
          "output_type": "stream",
          "name": "stdout",
          "text": [
            "Epoch 1/5\n",
            "Tecaher prediction   ... Tensor(\"teacher/dense/BiasAdd:0\", shape=(32, 10), dtype=float32)\n",
            "Loss in distiller : Tensor(\"add:0\", shape=(), dtype=float32)\n",
            "Train... {'sparse_categorical_accuracy': <tf.Tensor 'Identity_6:0' shape=() dtype=float32>, 'student_loss': <tf.Tensor 'sparse_categorical_crossentropy/weighted_loss/value:0' shape=() dtype=float32>, 'distillation_loss': <tf.Tensor 'kl_divergence/weighted_loss/value:0' shape=() dtype=float32>}\n",
            "Tecaher prediction   ... Tensor(\"teacher/dense/BiasAdd:0\", shape=(32, 10), dtype=float32)\n",
            "Loss in distiller : Tensor(\"add:0\", shape=(), dtype=float32)\n",
            "Train... {'sparse_categorical_accuracy': <tf.Tensor 'Identity_6:0' shape=() dtype=float32>, 'student_loss': <tf.Tensor 'sparse_categorical_crossentropy/weighted_loss/value:0' shape=() dtype=float32>, 'distillation_loss': <tf.Tensor 'kl_divergence/weighted_loss/value:0' shape=() dtype=float32>}\n",
            "1875/1875 [==============================] - 14s 5ms/step - sparse_categorical_accuracy: 0.8268 - student_loss: 0.4838 - distillation_loss: 0.0483\n",
            "Epoch 2/5\n",
            "1875/1875 [==============================] - 10s 5ms/step - sparse_categorical_accuracy: 0.8745 - student_loss: 0.3543 - distillation_loss: 0.0216\n",
            "Epoch 3/5\n",
            "1875/1875 [==============================] - 9s 5ms/step - sparse_categorical_accuracy: 0.8838 - student_loss: 0.3265 - distillation_loss: 0.0188\n",
            "Epoch 4/5\n",
            "1875/1875 [==============================] - 10s 5ms/step - sparse_categorical_accuracy: 0.8861 - student_loss: 0.3149 - distillation_loss: 0.0181\n",
            "Epoch 5/5\n",
            "1875/1875 [==============================] - 9s 5ms/step - sparse_categorical_accuracy: 0.8927 - student_loss: 0.3015 - distillation_loss: 0.0175\n",
            "Test... {'sparse_categorical_accuracy': <tf.Tensor 'Identity:0' shape=() dtype=float32>, 'student_loss': <tf.Tensor 'sparse_categorical_crossentropy/weighted_loss/value:0' shape=() dtype=float32>}\n",
            "313/313 [==============================] - 1s 3ms/step - sparse_categorical_accuracy: 0.8857 - student_loss: 0.3132\n"
          ]
        },
        {
          "output_type": "execute_result",
          "data": {
            "text/plain": [
              "[0.885699987411499, 0.2039467692375183]"
            ]
          },
          "metadata": {},
          "execution_count": 8
        }
      ]
    },
    {
      "cell_type": "code",
      "source": [
        "# Plot accuracy for teacher and student models\n",
        "import matplotlib.pyplot as plt\n",
        "\n",
        "plt.plot(history_teacher.history['sparse_categorical_accuracy'], label='Teacher Accuracy')\n",
        "plt.plot(history_student.history['sparse_categorical_accuracy'], label='Student Accuracy')\n",
        "plt.title('Teacher vs Student Accuracy')\n",
        "plt.xlabel('Epoch')\n",
        "plt.ylabel('Accuracy')\n",
        "#plt.ylim((80, 95))  # Set a fixed y-axis range for consistency\n",
        "#plt.yticks(np.arange(80, 96, 2))\n",
        "plt.legend()\n",
        "plt.show()"
      ],
      "metadata": {
        "colab": {
          "base_uri": "https://localhost:8080/",
          "height": 472
        },
        "id": "SOnzfH9NKrjI",
        "outputId": "15f4a569-de91-40c8-c3f9-0802f0271098"
      },
      "execution_count": null,
      "outputs": [
        {
          "output_type": "display_data",
          "data": {
            "text/plain": [
              "<Figure size 640x480 with 1 Axes>"
            ],
            "image/png": "[encoded data removed]"
          },
          "metadata": {}
        }
      ]
    },
    {
      "cell_type": "code",
      "source": [],
      "metadata": {
        "id": "ZZU-D_m0eDdI"
      },
      "execution_count": null,
      "outputs": []
    }
  ],
  "metadata": {
    "colab": {
      "provenance": [],
      "gpuType": "T4",
      "authorship_tag": "ABX9TyMtMYEYAx30UcSLNL9O/+rA",
      "include_colab_link": true
    },
    "kernelspec": {
      "display_name": "Python 3",
      "name": "python3"
    },
    "language_info": {
      "name": "python"
    },
    "accelerator": "GPU"
  },
  "nbformat": 4,
  "nbformat_minor": 0
}